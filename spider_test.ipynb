{
 "cells": [
  {
   "cell_type": "code",
   "execution_count": 1,
   "metadata": {
    "collapsed": true
   },
   "outputs": [],
   "source": [
    "import sqlite3\n",
    "import requests\n",
    "import json\n",
    "import pandas as pd\n",
    "from sqlalchemy import create_engine\n",
    "\n",
    "payload = {'key1': 'value1', 'key2': 'value2'}\n",
    "headers = {\n",
    "    'Host': 'pintia.cn',\n",
    "    'User-Agent': 'Mozilla/5.0 (Windows NT 10.0; Win64; x64) AppleWebKit/537.36 (KHTML, like Gecko) '\n",
    "                  'Chrome/88.0.4324.146 Safari/537.36',\n",
    "    'Accept': 'application/json;charset=UTF-8',\n",
    "    'Cookie': '_ga=GA1.2.592894529.1582188659; _9755xjdesxxd_=32; __snaker__captcha=snqmc7MZHM1C4F3y; '\n",
    "              'gdxidpyhxdE=Xwg4ZrMhoiZTkZGozSyjBij%5CJ5WS%5CIqVTOxAnUtaiVhlebKCASRSgp6n3'\n",
    "              '%2BEQmKTfvSjYCEIj0PwEfPkdmjGsg83%5CXokL2hafAqSz%2F0NsZtwRQKT%5C8vWzK0qJe49v1vH8ONKPzyBhrB5A%2B%5CZwt'\n",
    "              '%2FTcux0yYdnTNdBbSjBV54avVL%5CcHjHs%3A1597548356066; '\n",
    "              '__gads=ID=4d43aea6bdcc8402-2250b33771c6005e:T=1616041663:RT=1616041663:S=ALNI_Mb2eHV_'\n",
    "              '-0fE9jIjaByMiHmu6u9x-A; _gid=GA1.2.391097635.1616256328; JSESSIONID=0184424C37C152E19C839EC4F827A8B5 '\n",
    "}\n",
    "num_list = [733, 734, 735, 736, 737, 738, 739, 740, 741, 743, 744, 44932]\n",
    "list_value1 = []\n",
    "list_value2 = []\n",
    "list_value3 = []"
   ]
  },
  {
   "cell_type": "code",
   "execution_count": 2,
   "outputs": [
    {
     "name": "stdout",
     "output_type": "stream",
     "text": [
      "{'title': ['简单输出整数', '多项式求值', '简单求和', '求自定类型元素的平均', '求自定类型元素的最大值', '求单链表结点的阶乘和', '统计某类完全平方数', '简单阶乘计算', '统计个位数字', '求自定类型元素序列的中位数', '判断奇偶性', '折半查找'], 'author': ['陈越', '陈越', '陈越', '陈越', '陈越', '陈越', '陈越', '陈越', '陈越', '陈越', '陈越', '王群芳'], 'question': ['本题要求实现一个函数，对给定的正整数`N`，打印从1到`N`的全部正整数。\\n\\n### 函数接口定义：\\n```c++\\nvoid PrintN ( int N );\\n```\\n\\n其中`N`是用户传入的参数。该函数必须将从1到`N`的全部正整数顺序打印出来，每个数字占1行。\\n\\n### 裁判测试程序样例：\\n```c++\\n#include <stdio.h>\\n\\nvoid PrintN ( int N );\\n\\nint main ()\\n{\\n    int N;\\n\\n    scanf(\"%d\", &N);\\n    PrintN( N );\\n\\n    return 0;\\n}\\n\\n/* 你的代码将被嵌在这里 */\\n```\\n\\n### 输入样例：\\n```in\\n3\\n```\\n\\n### 输出样例：\\n```out\\n1\\n2\\n3\\n```', '本题要求实现一个函数，计算阶数为`n`，系数为`a[0]` ... `a[n]`的多项式$$f(x)=\\\\sum_{i=0}^{n}(a[i]\\\\times x^i)$$ 在`x`点的值。\\n\\n### 函数接口定义：\\n```c++\\ndouble f( int n, double a[], double x );\\n```\\n\\n其中`n`是多项式的阶数，`a[]`中存储系数，`x`是给定点。函数须返回多项式`f(x)`的值。\\n\\n### 裁判测试程序样例：\\n```c++\\n#include <stdio.h>\\n\\n#define MAXN 10\\n\\ndouble f( int n, double a[], double x );\\n\\nint main()\\n{\\n    int n, i;\\n    double a[MAXN], x;\\n\\t\\n    scanf(\"%d %lf\", &n, &x);\\n    for ( i=0; i<=n; i++ )\\n        scanf(“%lf”, &a[i]);\\n    printf(\"%.1f\\\\n\", f(n, a, x));\\n    return 0;\\n}\\n\\n/* 你的代码将被嵌在这里 */\\n```\\n\\n### 输入样例：\\n```in\\n2 1.1\\n1 2.5 -38.7\\n```\\n\\n### 输出样例：\\n```out\\n-43.1\\n```', '本题要求实现一个函数，求给定的`N`个整数的和。\\n\\n### 函数接口定义：\\n```c++\\nint Sum ( int List[], int N );\\n```\\n\\n其中给定整数存放在数组`List[]`中，正整数`N`是数组元素个数。该函数须返回`N`个`List[]`元素的和。\\n\\n### 裁判测试程序样例：\\n```c++\\n#include <stdio.h>\\n\\n#define MAXN 10\\n\\nint Sum ( int List[], int N );\\n\\nint main ()\\n{\\n    int List[MAXN], N, i;\\n\\n    scanf(\"%d\", &N);\\n    for ( i=0; i<N; i++ )\\n        scanf(\"%d\", &List[i]);\\n    printf(\"%d\\\\n\", Sum(List, N));\\n\\n    return 0;\\n}\\n\\n/* 你的代码将被嵌在这里 */\\n```\\n\\n### 输入样例：\\n```in\\n3\\n12 34 -5\\n```\\n\\n### 输出样例：\\n```out\\n41\\n```', '本题要求实现一个函数，求`N`个集合元素`S[]`的平均值，其中集合元素的类型为自定义的`ElementType`。\\n\\n### 函数接口定义：\\n```c++\\nElementType Average( ElementType S[], int N );\\n```\\n\\n其中给定集合元素存放在数组`S[]`中，正整数`N`是数组元素个数。该函数须返回`N`个`S[]`元素的平均值，其值也必须是`ElementType`类型。\\n\\n### 裁判测试程序样例：\\n```c++\\n#include <stdio.h>\\n\\n#define MAXN 10\\ntypedef float ElementType;\\n\\nElementType Average( ElementType S[], int N );\\n\\nint main ()\\n{\\n    ElementType S[MAXN];\\n    int N, i;\\n\\n    scanf(\"%d\", &N);\\n    for ( i=0; i<N; i++ )\\n        scanf(\"%f\", &S[i]);\\n    printf(\"%.2f\\\\n\", Average(S, N));\\n\\n    return 0;\\n}\\n\\n/* 你的代码将被嵌在这里 */\\n```\\n\\n### 输入样例：\\n```in\\n3\\n12.3 34 -5\\n```\\n\\n### 输出样例：\\n```out\\n13.77\\n```', '本题要求实现一个函数，求`N`个集合元素`S[]`中的最大值，其中集合元素的类型为自定义的`ElementType`。\\n\\n### 函数接口定义：\\n```c++\\nElementType Max( ElementType S[], int N );\\n```\\n\\n其中给定集合元素存放在数组`S[]`中，正整数`N`是数组元素个数。该函数须返回`N`个`S[]`元素中的最大值，其值也必须是`ElementType`类型。\\n\\n### 裁判测试程序样例：\\n```c++\\n#include <stdio.h>\\n\\n#define MAXN 10\\ntypedef float ElementType;\\n\\nElementType Max( ElementType S[], int N );\\n\\nint main ()\\n{\\n    ElementType S[MAXN];\\n    int N, i;\\n\\n    scanf(\"%d\", &N);\\n    for ( i=0; i<N; i++ )\\n        scanf(\"%f\", &S[i]);\\n    printf(\"%.2f\\\\n\", Max(S, N));\\n\\n    return 0;\\n}\\n\\n/* 你的代码将被嵌在这里 */\\n```\\n\\n### 输入样例：\\n```in\\n3\\n12.3 34 -5\\n```\\n\\n### 输出样例：\\n```out\\n34.00\\n```', '本题要求实现一个函数，求单链表`L`结点的阶乘和。这里默认所有结点的值非负，且题目保证结果在`int`范围内。\\n\\n### 函数接口定义：\\n```c++\\nint FactorialSum( List L );\\n```\\n\\n其中单链表`List`的定义如下：\\n\\n```c++\\ntypedef struct Node *PtrToNode;\\nstruct Node {\\n    int Data; /* 存储结点数据 */\\n    PtrToNode Next; /* 指向下一个结点的指针 */\\n};\\ntypedef PtrToNode List; /* 定义单链表类型 */\\n```\\n\\n### 裁判测试程序样例：\\n```c++\\n#include <stdio.h>\\n#include <stdlib.h>\\n\\ntypedef struct Node *PtrToNode;\\nstruct Node {\\n    int Data; /* 存储结点数据 */\\n    PtrToNode Next; /* 指向下一个结点的指针 */\\n};\\ntypedef PtrToNode List; /* 定义单链表类型 */\\n\\nint FactorialSum( List L );\\n\\nint main()\\n{\\n    int N, i;\\n    List L, p;\\n\\n    scanf(\"%d\", &N);\\n    L = NULL;\\n    for ( i=0; i<N; i++ ) {\\n        p = (List)malloc(sizeof(struct Node));\\n        scanf(\"%d\", &p->Data);\\n        p->Next = L;  L = p;\\n    }\\n    printf(\"%d\\\\n\", FactorialSum(L));\\n\\n    return 0;\\n}\\n\\n/* 你的代码将被嵌在这里 */\\n```\\n\\n### 输入样例：\\n```in\\n3\\n5 3 6\\n```\\n\\n### 输出样例：\\n```out\\n846\\n```', '本题要求实现一个函数，判断任一给定整数`N`是否满足条件：它是完全平方数，又至少有两位数字相同，如144、676等。\\n\\n### 函数接口定义：\\n```c++\\nint IsTheNumber ( const int N );\\n```\\n\\n其中`N`是用户传入的参数。如果`N`满足条件，则该函数必须返回1，否则返回0。\\n\\n### 裁判测试程序样例：\\n```c++\\n#include <stdio.h>\\n#include <math.h>\\n\\nint IsTheNumber ( const int N );\\n\\nint main()\\n{\\n    int n1, n2, i, cnt;\\n\\t\\n    scanf(\"%d %d\", &n1, &n2);\\n    cnt = 0;\\n    for ( i=n1; i<=n2; i++ ) {\\n        if ( IsTheNumber(i) )\\n            cnt++;\\n    }\\n    printf(\"cnt = %d\\\\n\", cnt);\\n\\n    return 0;\\n}\\n\\n/* 你的代码将被嵌在这里 */\\n```\\n\\n### 输入样例：\\n```in\\n105 500\\n```\\n\\n### 输出样例：\\n```out\\ncnt = 6\\n```', '本题要求实现一个计算非负整数阶乘的简单函数。\\n\\n### 函数接口定义：\\n```c++\\nint Factorial( const int N );\\n```\\n\\n其中`N`是用户传入的参数，其值不超过12。如果`N`是非负整数，则该函数必须返回`N`的阶乘，否则返回0。\\n\\n### 裁判测试程序样例：\\n```c++\\n#include <stdio.h>\\n\\nint Factorial( const int N );\\n\\nint main()\\n{\\n    int N, NF;\\n\\t\\n    scanf(\"%d\", &N);\\n    NF = Factorial(N);\\n    if (NF)  printf(\"%d! = %d\\\\n\", N, NF);\\n    else printf(\"Invalid input\\\\n\");\\n\\n    return 0;\\n}\\n\\n/* 你的代码将被嵌在这里 */\\n```\\n\\n### 输入样例：\\n```in\\n5\\n```\\n\\n### 输出样例：\\n```out\\n5! = 120\\n```', '本题要求实现一个函数，可统计任一整数中某个位数出现的次数。例如-21252中，2出现了3次，则该函数应该返回3。\\n\\n### 函数接口定义：\\n```c++\\nint Count_Digit ( const int N, const int D );\\n```\\n\\n其中`N`和`D`都是用户传入的参数。`N`的值不超过`int`的范围；`D`是[0, 9]区间内的个位数。函数须返回`N`中`D`出现的次数。\\n\\n### 裁判测试程序样例：\\n```c++\\n#include <stdio.h>\\n\\nint Count_Digit ( const int N, const int D );\\n\\nint main()\\n{\\n    int N, D;\\n\\t\\n    scanf(\"%d %d\", &N, &D);\\n    printf(\"%d\\\\n\", Count_Digit(N, D));\\n    return 0;\\n}\\n\\n/* 你的代码将被嵌在这里 */\\n```\\n\\n### 输入样例：\\n```in\\n-21252 2\\n```\\n\\n### 输出样例：\\n```out\\n3\\n```', '本题要求实现一个函数，求`N`个集合元素`A[]`的中位数，即序列中第$$\\\\lfloor (N+1)/2\\\\rfloor$$大的元素。其中集合元素的类型为自定义的`ElementType`。\\n\\n### 函数接口定义：\\n```c++\\nElementType Median( ElementType A[], int N );\\n```\\n\\n其中给定集合元素存放在数组`A[]`中，正整数`N`是数组元素个数。该函数须返回`N`个`A[]`元素的中位数，其值也必须是`ElementType`类型。\\n\\n### 裁判测试程序样例：\\n```c++\\n#include <stdio.h>\\n\\n#define MAXN 10\\ntypedef float ElementType;\\n\\nElementType Median( ElementType A[], int N );\\n\\nint main ()\\n{\\n    ElementType A[MAXN];\\n    int N, i;\\n\\n    scanf(\"%d\", &N);\\n    for ( i=0; i<N; i++ )\\n        scanf(\"%f\", &A[i]);\\n    printf(\"%.2f\\\\n\", Median(A, N));\\n\\n    return 0;\\n}\\n\\n/* 你的代码将被嵌在这里 */\\n```\\n\\n### 输入样例：\\n```in\\n3\\n12.3 34 -5\\n```\\n\\n### 输出样例：\\n```out\\n12.30\\n```', '本题要求实现判断给定整数奇偶性的函数。\\n\\n### 函数接口定义：\\n```c++\\nint even( int n );\\n```\\n\\n其中`n`是用户传入的整型参数。当`n`为偶数时，函数返回1；`n`为奇数时返回0。注意：0是偶数。\\n\\n### 裁判测试程序样例：\\n```c++\\n#include <stdio.h>\\n\\nint even( int n );\\n\\nint main()\\n{    \\n    int n;\\n\\n    scanf(\"%d\", &n);\\n    if (even(n))\\n        printf(\"%d is even.\\\\n\", n);\\n    else\\n        printf(\"%d is odd.\\\\n\", n);\\n    \\n    return 0;\\n}\\n\\n/* 你的代码将被嵌在这里 */\\n```\\n\\n### 输入样例1：\\n```in\\n-6\\n```\\n\\n### 输出样例1：\\n```out\\n-6 is even.\\n```\\n\\n### 输入样例2：\\n```\\n5\\n```\\n\\n### 输出样例2：\\n```\\n5 is odd.\\n```', '给一个严格递增数列，函数int  Search_Bin(SSTable T, KeyType k)用来二分地查找k在数列中的位置。\\n\\n### 函数接口定义：\\n```c++\\nint  Search_Bin(SSTable T, KeyType k)\\n```\\n\\n其中T是有序表，k是查找的值。\\n\\n### 裁判测试程序样例：\\n```c++\\n\\n#include <iostream>\\nusing namespace std;\\n\\n#define MAXSIZE 50\\ntypedef int KeyType;\\n\\ntypedef  struct                     \\n{ KeyType  key;                                             \\n} ElemType;  \\n\\ntypedef  struct\\n{ ElemType  *R; \\n  int  length;\\n} SSTable;                      \\n\\nvoid  Create(SSTable &T)\\n{ int i;\\n  T.R=new ElemType[MAXSIZE+1];\\n  cin>>T.length;\\n  for(i=1;i<=T.length;i++)\\n     cin>>T.R[i].key;   \\n}\\n\\nint  Search_Bin(SSTable T, KeyType k);\\n\\nint main () \\n{  SSTable T;  KeyType k;\\n   Create(T);\\n   cin>>k;\\n   int pos=Search_Bin(T,k);\\n   if(pos==0) cout<<\"NOT FOUND\"<<endl;\\n   else cout<<pos<<endl;\\n   return 0;\\n}\\n\\n/* 请在这里填写答案 */\\n```\\n###输入格式：\\n\\n第一行输入一个整数n，表示有序表的元素个数，接下来一行n个数字，依次为表内元素值。 然后输入一个要查找的值。\\n\\n###输出格式：\\n\\n输出这个值在表内的位置，如果没有找到，输出\"NOT FOUND\"。\\n### 输入样例：\\n```in\\n5\\n1 3 5 7 9\\n7\\n```\\n\\n### 输出样例：\\n```out\\n4\\n```\\n### 输入样例：\\n```\\n5\\n1 3 5 7 9\\n10\\n```\\n### 输出样例：\\n```\\nNOT FOUND\\n```']}\n"
     ]
    }
   ],
   "source": [
    "for i in num_list:\n",
    "    url = \"https://pintia.cn/api/problem-sets/14/problems/\" + str(i)\n",
    "    res = requests.get(url, headers=headers)\n",
    "    data = json.loads(res.text)\n",
    "    data_1 = data['problemSetProblem']\n",
    "    list_value1.append(data_1['title'])\n",
    "    list_value2.append(data_1['author'])\n",
    "    list_value3.append(data_1['content'])\n",
    "list_value = [list_value1, list_value2, list_value3]\n",
    "list_key = ['title', 'author', 'question']\n",
    "result = dict(zip(list_key, list_value))\n",
    "print(result)"
   ],
   "metadata": {
    "collapsed": false,
    "pycharm": {
     "name": "#%%\n"
    }
   }
  },
  {
   "cell_type": "code",
   "execution_count": 12,
   "outputs": [
    {
     "name": "stdout",
     "output_type": "stream",
     "text": [
      "            title author                                           question\n",
      "1          简单输出整数     陈越  本题要求实现一个函数，对给定的正整数`N`，打印从1到`N`的全部正整数。\\n\\n### 函...\n",
      "2           多项式求值     陈越  本题要求实现一个函数，计算阶数为`n`，系数为`a[0]` ... `a[n]`的多项式$$...\n",
      "3            简单求和     陈越  本题要求实现一个函数，求给定的`N`个整数的和。\\n\\n### 函数接口定义：\\n```c+...\n",
      "4      求自定类型元素的平均     陈越  本题要求实现一个函数，求`N`个集合元素`S[]`的平均值，其中集合元素的类型为自定义的`E...\n",
      "5     求自定类型元素的最大值     陈越  本题要求实现一个函数，求`N`个集合元素`S[]`中的最大值，其中集合元素的类型为自定义的`...\n",
      "6      求单链表结点的阶乘和     陈越  本题要求实现一个函数，求单链表`L`结点的阶乘和。这里默认所有结点的值非负，且题目保证结果在...\n",
      "7       统计某类完全平方数     陈越  本题要求实现一个函数，判断任一给定整数`N`是否满足条件：它是完全平方数，又至少有两位数字相...\n",
      "8          简单阶乘计算     陈越  本题要求实现一个计算非负整数阶乘的简单函数。\\n\\n### 函数接口定义：\\n```c++\\...\n",
      "9          统计个位数字     陈越  本题要求实现一个函数，可统计任一整数中某个位数出现的次数。例如-21252中，2出现了3次，...\n",
      "10  求自定类型元素序列的中位数     陈越  本题要求实现一个函数，求`N`个集合元素`A[]`的中位数，即序列中第$$\\lfloor (...\n",
      "11          判断奇偶性     陈越  本题要求实现判断给定整数奇偶性的函数。\\n\\n### 函数接口定义：\\n```c++\\nin...\n",
      "12           折半查找    王群芳  给一个严格递增数列，函数int  Search_Bin(SSTable T, KeyType...\n"
     ]
    }
   ],
   "source": [
    "db1 = pd.DataFrame(result, index=[1, 2, 3, 4, 5, 6, 7, 8, 9, 10, 11, 12])\n",
    "print(db1)"
   ],
   "metadata": {
    "collapsed": false,
    "pycharm": {
     "name": "#%%\n"
    }
   }
  },
  {
   "cell_type": "code",
   "execution_count": 4,
   "outputs": [],
   "source": [
    "\n",
    "# engine = create_engine(r'sqlite:///PySQLITE1.db')\n",
    "# db1.to_sql('covid19data', engine, if_exists='append', index=False)"
   ],
   "metadata": {
    "collapsed": false,
    "pycharm": {
     "name": "#%%\n"
    }
   }
  },
  {
   "cell_type": "code",
   "execution_count": 6,
   "outputs": [
    {
     "data": {
      "text/plain": "'给一个严格递增数列，函数int  Search_Bin(SSTable T, KeyType k)用来二分地查找k在数列中的位置。\\n\\n### 函数接口定义：\\n```c++\\nint  Search_Bin(SSTable T, KeyType k)\\n```\\n\\n其中T是有序表，k是查找的值。\\n\\n### 裁判测试程序样例：\\n```c++\\n\\n#include <iostream>\\nusing namespace std;\\n\\n#define MAXSIZE 50\\ntypedef int KeyType;\\n\\ntypedef  struct                     \\n{ KeyType  key;                                             \\n} ElemType;  \\n\\ntypedef  struct\\n{ ElemType  *R; \\n  int  length;\\n} SSTable;                      \\n\\nvoid  Create(SSTable &T)\\n{ int i;\\n  T.R=new ElemType[MAXSIZE+1];\\n  cin>>T.length;\\n  for(i=1;i<=T.length;i++)\\n     cin>>T.R[i].key;   \\n}\\n\\nint  Search_Bin(SSTable T, KeyType k);\\n\\nint main () \\n{  SSTable T;  KeyType k;\\n   Create(T);\\n   cin>>k;\\n   int pos=Search_Bin(T,k);\\n   if(pos==0) cout<<\"NOT FOUND\"<<endl;\\n   else cout<<pos<<endl;\\n   return 0;\\n}\\n\\n/* 请在这里填写答案 */\\n```\\n###输入格式：\\n\\n第一行输入一个整数n，表示有序表的元素个数，接下来一行n个数字，依次为表内元素值。 然后输入一个要查找的值。\\n\\n###输出格式：\\n\\n输出这个值在表内的位置，如果没有找到，输出\"NOT FOUND\"。\\n### 输入样例：\\n```in\\n5\\n1 3 5 7 9\\n7\\n```\\n\\n### 输出样例：\\n```out\\n4\\n```\\n### 输入样例：\\n```\\n5\\n1 3 5 7 9\\n10\\n```\\n### 输出样例：\\n```\\nNOT FOUND\\n```'"
     },
     "execution_count": 6,
     "metadata": {},
     "output_type": "execute_result"
    }
   ],
   "source": [
    "data_1['content']"
   ],
   "metadata": {
    "collapsed": false,
    "pycharm": {
     "name": "#%%\n"
    }
   }
  },
  {
   "cell_type": "code",
   "execution_count": 13,
   "outputs": [],
   "source": [
    "db1.to_excel('spiderdata.xlsx',sheet_name='spxls',index=False)"
   ],
   "metadata": {
    "collapsed": false,
    "pycharm": {
     "name": "#%%\n"
    }
   }
  },
  {
   "cell_type": "code",
   "execution_count": 14,
   "outputs": [],
   "source": [
    "db0=pd.read_excel('spiderdata.xlsx',sheet_name='spxls')"
   ],
   "metadata": {
    "collapsed": false,
    "pycharm": {
     "name": "#%%\n"
    }
   }
  },
  {
   "cell_type": "code",
   "execution_count": 15,
   "outputs": [
    {
     "data": {
      "text/plain": "            title author                                           question\n0          简单输出整数     陈越  本题要求实现一个函数，对给定的正整数`N`，打印从1到`N`的全部正整数。\\n\\n### 函...\n1           多项式求值     陈越  本题要求实现一个函数，计算阶数为`n`，系数为`a[0]` ... `a[n]`的多项式$$...\n2            简单求和     陈越  本题要求实现一个函数，求给定的`N`个整数的和。\\n\\n### 函数接口定义：\\n```c+...\n3      求自定类型元素的平均     陈越  本题要求实现一个函数，求`N`个集合元素`S[]`的平均值，其中集合元素的类型为自定义的`E...\n4     求自定类型元素的最大值     陈越  本题要求实现一个函数，求`N`个集合元素`S[]`中的最大值，其中集合元素的类型为自定义的`...\n5      求单链表结点的阶乘和     陈越  本题要求实现一个函数，求单链表`L`结点的阶乘和。这里默认所有结点的值非负，且题目保证结果在...\n6       统计某类完全平方数     陈越  本题要求实现一个函数，判断任一给定整数`N`是否满足条件：它是完全平方数，又至少有两位数字相...\n7          简单阶乘计算     陈越  本题要求实现一个计算非负整数阶乘的简单函数。\\n\\n### 函数接口定义：\\n```c++\\...\n8          统计个位数字     陈越  本题要求实现一个函数，可统计任一整数中某个位数出现的次数。例如-21252中，2出现了3次，...\n9   求自定类型元素序列的中位数     陈越  本题要求实现一个函数，求`N`个集合元素`A[]`的中位数，即序列中第$$\\lfloor (...\n10          判断奇偶性     陈越  本题要求实现判断给定整数奇偶性的函数。\\n\\n### 函数接口定义：\\n```c++\\nin...\n11           折半查找    王群芳  给一个严格递增数列，函数int  Search_Bin(SSTable T, KeyType...",
      "text/html": "<div>\n<style scoped>\n    .dataframe tbody tr th:only-of-type {\n        vertical-align: middle;\n    }\n\n    .dataframe tbody tr th {\n        vertical-align: top;\n    }\n\n    .dataframe thead th {\n        text-align: right;\n    }\n</style>\n<table border=\"1\" class=\"dataframe\">\n  <thead>\n    <tr style=\"text-align: right;\">\n      <th></th>\n      <th>title</th>\n      <th>author</th>\n      <th>question</th>\n    </tr>\n  </thead>\n  <tbody>\n    <tr>\n      <th>0</th>\n      <td>简单输出整数</td>\n      <td>陈越</td>\n      <td>本题要求实现一个函数，对给定的正整数`N`，打印从1到`N`的全部正整数。\\n\\n### 函...</td>\n    </tr>\n    <tr>\n      <th>1</th>\n      <td>多项式求值</td>\n      <td>陈越</td>\n      <td>本题要求实现一个函数，计算阶数为`n`，系数为`a[0]` ... `a[n]`的多项式$$...</td>\n    </tr>\n    <tr>\n      <th>2</th>\n      <td>简单求和</td>\n      <td>陈越</td>\n      <td>本题要求实现一个函数，求给定的`N`个整数的和。\\n\\n### 函数接口定义：\\n```c+...</td>\n    </tr>\n    <tr>\n      <th>3</th>\n      <td>求自定类型元素的平均</td>\n      <td>陈越</td>\n      <td>本题要求实现一个函数，求`N`个集合元素`S[]`的平均值，其中集合元素的类型为自定义的`E...</td>\n    </tr>\n    <tr>\n      <th>4</th>\n      <td>求自定类型元素的最大值</td>\n      <td>陈越</td>\n      <td>本题要求实现一个函数，求`N`个集合元素`S[]`中的最大值，其中集合元素的类型为自定义的`...</td>\n    </tr>\n    <tr>\n      <th>5</th>\n      <td>求单链表结点的阶乘和</td>\n      <td>陈越</td>\n      <td>本题要求实现一个函数，求单链表`L`结点的阶乘和。这里默认所有结点的值非负，且题目保证结果在...</td>\n    </tr>\n    <tr>\n      <th>6</th>\n      <td>统计某类完全平方数</td>\n      <td>陈越</td>\n      <td>本题要求实现一个函数，判断任一给定整数`N`是否满足条件：它是完全平方数，又至少有两位数字相...</td>\n    </tr>\n    <tr>\n      <th>7</th>\n      <td>简单阶乘计算</td>\n      <td>陈越</td>\n      <td>本题要求实现一个计算非负整数阶乘的简单函数。\\n\\n### 函数接口定义：\\n```c++\\...</td>\n    </tr>\n    <tr>\n      <th>8</th>\n      <td>统计个位数字</td>\n      <td>陈越</td>\n      <td>本题要求实现一个函数，可统计任一整数中某个位数出现的次数。例如-21252中，2出现了3次，...</td>\n    </tr>\n    <tr>\n      <th>9</th>\n      <td>求自定类型元素序列的中位数</td>\n      <td>陈越</td>\n      <td>本题要求实现一个函数，求`N`个集合元素`A[]`的中位数，即序列中第$$\\lfloor (...</td>\n    </tr>\n    <tr>\n      <th>10</th>\n      <td>判断奇偶性</td>\n      <td>陈越</td>\n      <td>本题要求实现判断给定整数奇偶性的函数。\\n\\n### 函数接口定义：\\n```c++\\nin...</td>\n    </tr>\n    <tr>\n      <th>11</th>\n      <td>折半查找</td>\n      <td>王群芳</td>\n      <td>给一个严格递增数列，函数int  Search_Bin(SSTable T, KeyType...</td>\n    </tr>\n  </tbody>\n</table>\n</div>"
     },
     "execution_count": 15,
     "metadata": {},
     "output_type": "execute_result"
    }
   ],
   "source": [
    "db0"
   ],
   "metadata": {
    "collapsed": false,
    "pycharm": {
     "name": "#%%\n"
    }
   }
  },
  {
   "cell_type": "code",
   "execution_count": 16,
   "outputs": [],
   "source": [
    "engine = create_engine(r'sqlite:///PySQLITE1.db')\n",
    "db0.to_sql('covid19data', engine, if_exists='append', index=False)"
   ],
   "metadata": {
    "collapsed": false,
    "pycharm": {
     "name": "#%%\n"
    }
   }
  },
  {
   "cell_type": "code",
   "execution_count": null,
   "outputs": [],
   "source": [],
   "metadata": {
    "collapsed": false,
    "pycharm": {
     "name": "#%%\n"
    }
   }
  }
 ],
 "metadata": {
  "kernelspec": {
   "display_name": "Python 3",
   "language": "python",
   "name": "python3"
  },
  "language_info": {
   "codemirror_mode": {
    "name": "ipython",
    "version": 2
   },
   "file_extension": ".py",
   "mimetype": "text/x-python",
   "name": "python",
   "nbconvert_exporter": "python",
   "pygments_lexer": "ipython2",
   "version": "2.7.6"
  }
 },
 "nbformat": 4,
 "nbformat_minor": 0
}